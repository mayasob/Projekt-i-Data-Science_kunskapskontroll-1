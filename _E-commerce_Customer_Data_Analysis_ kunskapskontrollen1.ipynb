{
 "cells": [
  {
   "cell_type": "code",
   "execution_count": 1,
   "id": "2ab79a8c",
   "metadata": {},
   "outputs": [
    {
     "name": "stdout",
     "output_type": "stream",
     "text": [
      "Requirement already satisfied: pandas in c:\\users\\mayas\\anaconda3\\lib\\site-packages (2.0.3)\n",
      "Requirement already satisfied: dash in c:\\users\\mayas\\anaconda3\\lib\\site-packages (2.18.1)\n",
      "Requirement already satisfied: bokeh in c:\\users\\mayas\\anaconda3\\lib\\site-packages (3.2.1)\n",
      "Requirement already satisfied: ipywidgets in c:\\users\\mayas\\anaconda3\\lib\\site-packages (8.0.4)\n",
      "Requirement already satisfied: matplotlib in c:\\users\\mayas\\anaconda3\\lib\\site-packages (3.7.2)\n",
      "Requirement already satisfied: seaborn in c:\\users\\mayas\\anaconda3\\lib\\site-packages (0.12.2)\n",
      "Requirement already satisfied: python-dateutil>=2.8.2 in c:\\users\\mayas\\anaconda3\\lib\\site-packages (from pandas) (2.8.2)\n",
      "Requirement already satisfied: pytz>=2020.1 in c:\\users\\mayas\\anaconda3\\lib\\site-packages (from pandas) (2023.3.post1)\n",
      "Requirement already satisfied: tzdata>=2022.1 in c:\\users\\mayas\\anaconda3\\lib\\site-packages (from pandas) (2023.3)\n",
      "Requirement already satisfied: numpy>=1.21.0 in c:\\users\\mayas\\anaconda3\\lib\\site-packages (from pandas) (1.24.3)\n",
      "Requirement already satisfied: Flask<3.1,>=1.0.4 in c:\\users\\mayas\\anaconda3\\lib\\site-packages (from dash) (2.2.2)\n",
      "Requirement already satisfied: Werkzeug<3.1 in c:\\users\\mayas\\anaconda3\\lib\\site-packages (from dash) (2.2.3)\n",
      "Requirement already satisfied: plotly>=5.0.0 in c:\\users\\mayas\\anaconda3\\lib\\site-packages (from dash) (5.9.0)\n",
      "Requirement already satisfied: dash-html-components==2.0.0 in c:\\users\\mayas\\anaconda3\\lib\\site-packages (from dash) (2.0.0)\n",
      "Requirement already satisfied: dash-core-components==2.0.0 in c:\\users\\mayas\\anaconda3\\lib\\site-packages (from dash) (2.0.0)\n",
      "Requirement already satisfied: dash-table==5.0.0 in c:\\users\\mayas\\anaconda3\\lib\\site-packages (from dash) (5.0.0)\n",
      "Requirement already satisfied: importlib-metadata in c:\\users\\mayas\\anaconda3\\lib\\site-packages (from dash) (6.0.0)\n",
      "Requirement already satisfied: typing-extensions>=4.1.1 in c:\\users\\mayas\\anaconda3\\lib\\site-packages (from dash) (4.12.2)\n",
      "Requirement already satisfied: requests in c:\\users\\mayas\\anaconda3\\lib\\site-packages (from dash) (2.31.0)\n",
      "Requirement already satisfied: retrying in c:\\users\\mayas\\anaconda3\\lib\\site-packages (from dash) (1.3.4)\n",
      "Requirement already satisfied: nest-asyncio in c:\\users\\mayas\\anaconda3\\lib\\site-packages (from dash) (1.5.6)\n",
      "Requirement already satisfied: setuptools in c:\\users\\mayas\\anaconda3\\lib\\site-packages (from dash) (68.0.0)\n",
      "Requirement already satisfied: Jinja2>=2.9 in c:\\users\\mayas\\anaconda3\\lib\\site-packages (from bokeh) (3.1.2)\n",
      "Requirement already satisfied: contourpy>=1 in c:\\users\\mayas\\anaconda3\\lib\\site-packages (from bokeh) (1.0.5)\n",
      "Requirement already satisfied: packaging>=16.8 in c:\\users\\mayas\\anaconda3\\lib\\site-packages (from bokeh) (23.1)\n",
      "Requirement already satisfied: pillow>=7.1.0 in c:\\users\\mayas\\anaconda3\\lib\\site-packages (from bokeh) (10.0.1)\n",
      "Requirement already satisfied: PyYAML>=3.10 in c:\\users\\mayas\\anaconda3\\lib\\site-packages (from bokeh) (6.0)\n",
      "Requirement already satisfied: tornado>=5.1 in c:\\users\\mayas\\anaconda3\\lib\\site-packages (from bokeh) (6.3.2)\n",
      "Requirement already satisfied: xyzservices>=2021.09.1 in c:\\users\\mayas\\anaconda3\\lib\\site-packages (from bokeh) (2022.9.0)\n",
      "Requirement already satisfied: ipykernel>=4.5.1 in c:\\users\\mayas\\anaconda3\\lib\\site-packages (from ipywidgets) (6.25.0)\n",
      "Requirement already satisfied: ipython>=6.1.0 in c:\\users\\mayas\\anaconda3\\lib\\site-packages (from ipywidgets) (8.15.0)\n",
      "Requirement already satisfied: traitlets>=4.3.1 in c:\\users\\mayas\\anaconda3\\lib\\site-packages (from ipywidgets) (5.7.1)\n",
      "Requirement already satisfied: widgetsnbextension~=4.0 in c:\\users\\mayas\\anaconda3\\lib\\site-packages (from ipywidgets) (4.0.5)\n",
      "Requirement already satisfied: jupyterlab-widgets~=3.0 in c:\\users\\mayas\\anaconda3\\lib\\site-packages (from ipywidgets) (3.0.5)\n",
      "Requirement already satisfied: cycler>=0.10 in c:\\users\\mayas\\anaconda3\\lib\\site-packages (from matplotlib) (0.11.0)\n",
      "Requirement already satisfied: fonttools>=4.22.0 in c:\\users\\mayas\\anaconda3\\lib\\site-packages (from matplotlib) (4.25.0)\n",
      "Requirement already satisfied: kiwisolver>=1.0.1 in c:\\users\\mayas\\anaconda3\\lib\\site-packages (from matplotlib) (1.4.4)\n",
      "Requirement already satisfied: pyparsing<3.1,>=2.3.1 in c:\\users\\mayas\\anaconda3\\lib\\site-packages (from matplotlib) (3.0.9)\n",
      "Requirement already satisfied: itsdangerous>=2.0 in c:\\users\\mayas\\anaconda3\\lib\\site-packages (from Flask<3.1,>=1.0.4->dash) (2.0.1)\n",
      "Requirement already satisfied: click>=8.0 in c:\\users\\mayas\\anaconda3\\lib\\site-packages (from Flask<3.1,>=1.0.4->dash) (8.0.4)\n",
      "Requirement already satisfied: comm>=0.1.1 in c:\\users\\mayas\\anaconda3\\lib\\site-packages (from ipykernel>=4.5.1->ipywidgets) (0.1.2)\n",
      "Requirement already satisfied: debugpy>=1.6.5 in c:\\users\\mayas\\anaconda3\\lib\\site-packages (from ipykernel>=4.5.1->ipywidgets) (1.6.7)\n",
      "Requirement already satisfied: jupyter-client>=6.1.12 in c:\\users\\mayas\\anaconda3\\lib\\site-packages (from ipykernel>=4.5.1->ipywidgets) (7.4.9)\n",
      "Requirement already satisfied: jupyter-core!=5.0.*,>=4.12 in c:\\users\\mayas\\anaconda3\\lib\\site-packages (from ipykernel>=4.5.1->ipywidgets) (5.3.0)\n",
      "Requirement already satisfied: matplotlib-inline>=0.1 in c:\\users\\mayas\\anaconda3\\lib\\site-packages (from ipykernel>=4.5.1->ipywidgets) (0.1.6)\n",
      "Requirement already satisfied: psutil in c:\\users\\mayas\\anaconda3\\lib\\site-packages (from ipykernel>=4.5.1->ipywidgets) (5.9.0)\n",
      "Requirement already satisfied: pyzmq>=20 in c:\\users\\mayas\\anaconda3\\lib\\site-packages (from ipykernel>=4.5.1->ipywidgets) (23.2.0)\n",
      "Requirement already satisfied: backcall in c:\\users\\mayas\\anaconda3\\lib\\site-packages (from ipython>=6.1.0->ipywidgets) (0.2.0)\n",
      "Requirement already satisfied: decorator in c:\\users\\mayas\\anaconda3\\lib\\site-packages (from ipython>=6.1.0->ipywidgets) (5.1.1)\n",
      "Requirement already satisfied: jedi>=0.16 in c:\\users\\mayas\\anaconda3\\lib\\site-packages (from ipython>=6.1.0->ipywidgets) (0.18.1)\n",
      "Requirement already satisfied: pickleshare in c:\\users\\mayas\\anaconda3\\lib\\site-packages (from ipython>=6.1.0->ipywidgets) (0.7.5)\n",
      "Requirement already satisfied: prompt-toolkit!=3.0.37,<3.1.0,>=3.0.30 in c:\\users\\mayas\\anaconda3\\lib\\site-packages (from ipython>=6.1.0->ipywidgets) (3.0.36)\n",
      "Requirement already satisfied: pygments>=2.4.0 in c:\\users\\mayas\\anaconda3\\lib\\site-packages (from ipython>=6.1.0->ipywidgets) (2.15.1)\n",
      "Requirement already satisfied: stack-data in c:\\users\\mayas\\anaconda3\\lib\\site-packages (from ipython>=6.1.0->ipywidgets) (0.2.0)\n",
      "Requirement already satisfied: colorama in c:\\users\\mayas\\anaconda3\\lib\\site-packages (from ipython>=6.1.0->ipywidgets) (0.4.6)\n",
      "Requirement already satisfied: MarkupSafe>=2.0 in c:\\users\\mayas\\anaconda3\\lib\\site-packages (from Jinja2>=2.9->bokeh) (2.1.1)\n",
      "Requirement already satisfied: tenacity>=6.2.0 in c:\\users\\mayas\\anaconda3\\lib\\site-packages (from plotly>=5.0.0->dash) (8.2.2)\n",
      "Requirement already satisfied: six>=1.5 in c:\\users\\mayas\\anaconda3\\lib\\site-packages (from python-dateutil>=2.8.2->pandas) (1.16.0)\n",
      "Requirement already satisfied: zipp>=0.5 in c:\\users\\mayas\\anaconda3\\lib\\site-packages (from importlib-metadata->dash) (3.11.0)\n",
      "Requirement already satisfied: charset-normalizer<4,>=2 in c:\\users\\mayas\\anaconda3\\lib\\site-packages (from requests->dash) (2.0.4)\n",
      "Requirement already satisfied: idna<4,>=2.5 in c:\\users\\mayas\\anaconda3\\lib\\site-packages (from requests->dash) (3.4)\n",
      "Requirement already satisfied: urllib3<3,>=1.21.1 in c:\\users\\mayas\\anaconda3\\lib\\site-packages (from requests->dash) (1.26.16)\n",
      "Requirement already satisfied: certifi>=2017.4.17 in c:\\users\\mayas\\anaconda3\\lib\\site-packages (from requests->dash) (2023.7.22)\n",
      "Requirement already satisfied: parso<0.9.0,>=0.8.0 in c:\\users\\mayas\\anaconda3\\lib\\site-packages (from jedi>=0.16->ipython>=6.1.0->ipywidgets) (0.8.3)\n",
      "Requirement already satisfied: entrypoints in c:\\users\\mayas\\anaconda3\\lib\\site-packages (from jupyter-client>=6.1.12->ipykernel>=4.5.1->ipywidgets) (0.4)\n",
      "Requirement already satisfied: platformdirs>=2.5 in c:\\users\\mayas\\anaconda3\\lib\\site-packages (from jupyter-core!=5.0.*,>=4.12->ipykernel>=4.5.1->ipywidgets) (3.10.0)\n",
      "Requirement already satisfied: pywin32>=300 in c:\\users\\mayas\\anaconda3\\lib\\site-packages (from jupyter-core!=5.0.*,>=4.12->ipykernel>=4.5.1->ipywidgets) (305.1)\n",
      "Requirement already satisfied: wcwidth in c:\\users\\mayas\\anaconda3\\lib\\site-packages (from prompt-toolkit!=3.0.37,<3.1.0,>=3.0.30->ipython>=6.1.0->ipywidgets) (0.2.5)\n",
      "Requirement already satisfied: executing in c:\\users\\mayas\\anaconda3\\lib\\site-packages (from stack-data->ipython>=6.1.0->ipywidgets) (0.8.3)\n",
      "Requirement already satisfied: asttokens in c:\\users\\mayas\\anaconda3\\lib\\site-packages (from stack-data->ipython>=6.1.0->ipywidgets) (2.0.5)\n",
      "Requirement already satisfied: pure-eval in c:\\users\\mayas\\anaconda3\\lib\\site-packages (from stack-data->ipython>=6.1.0->ipywidgets) (0.2.2)\n"
     ]
    }
   ],
   "source": [
    "# Installera nödvändiga bibliotek om de inte redan är installerade\n",
    "!pip install pandas dash bokeh ipywidgets matplotlib seaborn\n",
    "\n",
    "# Importera de nödvändiga biblioteken\n",
    "import pandas as pd\n",
    "import sqlite3\n",
    "import matplotlib.pyplot as plt\n",
    "import seaborn as sns\n",
    "import zipfile\n"
   ]
  },
  {
   "cell_type": "markdown",
   "id": "22b5ea41",
   "metadata": {},
   "source": [
    "## Förklaring av Koden:\n",
    "Denna kod används för att installera och importera de bibliotek som behövs för dataanalys och visualisering.\n",
    "\n",
    "1. Installera Nödvändiga Bibliotek:\n",
    "* Här installeras de bibliotek som behövs, om de inte redan är installerade. Det inkluderar:\n",
    "* pandas: För datahantering.\n",
    "* dash: För att skapa interaktiva webbapplikationer.\n",
    "* bokeh: För interaktiv visualisering.\n",
    "* ipywidgets: För interaktiva element i Jupyter Notebook.\n",
    "* matplotlib och seaborn: För att skapa grafer och diagram.\n",
    "\n",
    "2. Importera Bibliotek:\n",
    "* Här importeras de bibliotek som behövs för att hantera data, skapa diagram och arbeta med ZIP-filer.\n",
    "* pandas: Används för datahantering och analys.\n",
    "* sqlite3: Används för att hantera SQLite-databaser.\n",
    "* matplotlib och seaborn: Används för att skapa grafer och visualiseringar.\n",
    "* zipfile: Används för att extrahera innehåll från ZIP-filer.\n",
    "\n",
    "Denna kod säkerställer att alla nödvändiga verktyg är redo att användas för analys och visualisering av data."
   ]
  },
  {
   "cell_type": "code",
   "execution_count": 2,
   "id": "0cbc46ca",
   "metadata": {},
   "outputs": [
    {
     "name": "stdout",
     "output_type": "stream",
     "text": [
      "   Customer ID        Purchase Date Product Category  Product Price  Quantity  \\\n",
      "0        44605  2023-05-03 21:30:02             Home            177         1   \n",
      "1        44605  2021-05-16 13:57:44      Electronics            174         3   \n",
      "2        44605  2020-07-13 06:16:57            Books            413         1   \n",
      "3        44605  2023-01-17 13:14:36      Electronics            396         3   \n",
      "4        44605  2021-05-01 11:29:27            Books            259         4   \n",
      "\n",
      "   Total Purchase Amount Payment Method  Customer Age  Returns Customer Name  \\\n",
      "0                   2427         PayPal            31      1.0   John Rivera   \n",
      "1                   2448         PayPal            31      1.0   John Rivera   \n",
      "2                   2345    Credit Card            31      1.0   John Rivera   \n",
      "3                    937           Cash            31      0.0   John Rivera   \n",
      "4                   2598         PayPal            31      1.0   John Rivera   \n",
      "\n",
      "   Age  Gender  Churn  \n",
      "0   31  Female      0  \n",
      "1   31  Female      0  \n",
      "2   31  Female      0  \n",
      "3   31  Female      0  \n",
      "4   31  Female      0  \n"
     ]
    }
   ],
   "source": [
    "# Sökväg till ZIP-filen\n",
    "zip_file_path = r'C:\\Users\\mayas\\Downloads\\archive.zip'\n",
    "\n",
    "# Extrahera filen till en temporär mapp\n",
    "with zipfile.ZipFile(zip_file_path, 'r') as zip_ref:\n",
    "    zip_ref.extractall('extracted_data')\n",
    "\n",
    "# Läs in CSV-filen från den extraherade mappen\n",
    "csv_file_path = 'extracted_data/ecommerce_customer_data_large.csv'\n",
    "df = pd.read_csv(csv_file_path)\n",
    "\n",
    "# Förhandsgranska de första raderna\n",
    "print(df.head())\n"
   ]
  },
  {
   "cell_type": "markdown",
   "id": "dcc2b909",
   "metadata": {},
   "source": [
    "## Förklaring av Koden:\n",
    "Denna kod används för att extrahera en ZIP-fil, läsa in en CSV-fil från den och sedan visa de första raderna av data.\n",
    "\n",
    "1. Definiera Sökväg till ZIP-filen:\n",
    "Här anges sökvägen till ZIP-filen som innehåller datafilen.\n",
    "\n",
    "2. Extrahera ZIP-filen:\n",
    "ZIP-filen öppnas och extraheras till en temporär mapp med namnet extracted_data.\n",
    "\n",
    "3. Läs in CSV-filen:\n",
    "CSV-filen som finns i den extraherade mappen läses in som en DataFrame (df) med hjälp av pd.read_csv().\n",
    "\n",
    "4. Visa de Första Raderna:\n",
    "Koden skriver ut de första raderna av data för att ge en förhandsgranskning av innehållet i CSV-filen.\n",
    "\n",
    "* Denna kod gör det möjligt att snabbt få tillgång till data från en ZIP-fil och att förhandsgranska den för vidare analys."
   ]
  },
  {
   "cell_type": "code",
   "execution_count": 3,
   "id": "e3bd71f2",
   "metadata": {},
   "outputs": [
    {
     "data": {
      "text/plain": [
       "250000"
      ]
     },
     "execution_count": 3,
     "metadata": {},
     "output_type": "execute_result"
    }
   ],
   "source": [
    "# Skapa och anslut till en SQLite-databas\n",
    "con = sqlite3.connect('ecommerce_data.db')\n",
    "\n",
    "# Ladda upp data till en tabell i databasen\n",
    "df.to_sql('customers', con, if_exists='replace', index=False)\n"
   ]
  },
  {
   "cell_type": "markdown",
   "id": "6968d6e7",
   "metadata": {},
   "source": [
    "## Förklaring av Koden:\n",
    "Denna kod används för att skapa en SQLite-databas och ladda upp data till en tabell i databasen.\n",
    "\n",
    "1. Skapa och Anslut till en Databas:\n",
    "* Här skapas en ny SQLite-databas med namnet ecommerce_data.db.\n",
    "* Om databasen redan finns, ansluter koden till den.\n",
    "\n",
    "2. Ladda Upp Data till Databasen:\n",
    "* Data från DataFrame df laddas upp till en tabell i databasen med namnet customers.\n",
    "* if_exists='replace': Om tabellen redan finns, ersätts den med den nya datan.\n",
    "* index=False: Anger att DataFrame-indexet inte ska inkluderas i databastabellen.\n",
    "\n",
    "Koden skapar en databas och laddar upp kunddata till en ny tabell, vilket gör att informationen blir lätt tillgänglig för SQL-frågor och analyser."
   ]
  },
  {
   "cell_type": "code",
   "execution_count": 4,
   "id": "f3b0a519",
   "metadata": {},
   "outputs": [
    {
     "name": "stdout",
     "output_type": "stream",
     "text": [
      "  Product_Category  Total_Sales\n",
      "0             Home    171138916\n",
      "1         Clothing    170716122\n",
      "2      Electronics    170146025\n",
      "3            Books    169345236\n"
     ]
    }
   ],
   "source": [
    "# SQL-fråga för att hämta de mest sålda produktkategorierna\n",
    "query = \"\"\"\n",
    "SELECT [Product Category] AS Product_Category, SUM([Total Purchase Amount]) AS Total_Sales\n",
    "FROM customers\n",
    "GROUP BY [Product Category]\n",
    "ORDER BY Total_Sales DESC\n",
    "LIMIT 10\n",
    "\"\"\"\n",
    "top_products = pd.read_sql_query(query, con)\n",
    "print(top_products)\n",
    "\n",
    "con.close()\n"
   ]
  },
  {
   "cell_type": "markdown",
   "id": "84bdc117",
   "metadata": {},
   "source": [
    "## Förklaring av Koden:\n",
    "\n",
    "Denna kod används för att hämta de mest sålda produktkategorierna från en databas med hjälp av en SQL-fråga.\n",
    "\n",
    "1. SQL-fråga för att Hämta Data:\n",
    "* SELECT: Väljer kolumnerna \"Product Category\" och summerar \"Total Purchase Amount\" för att beräkna den totala försäljningen per produktkategori.\n",
    "* GROUP BY: Grupperar resultaten per produktkategori.\n",
    "* ORDER BY Total_Sales DESC: Sorterar de grupperade resultaten i fallande ordning baserat på total försäljning.\n",
    "* LIMIT 10: Begränsar resultatet till de 10 mest sålda produktkategorierna.\n",
    "\n",
    "2. Hämta och Visa Resultatet:\n",
    "* Frågan körs mot databasen och resultaten laddas in i en DataFrame.\n",
    "* Resultatet skrivs ut och visar de mest sålda produktkategorierna baserat på total försäljning.\n",
    "\n",
    "Koden hjälper till att snabbt få en översikt över vilka produktkategorier som har högst försäljning.\n",
    "\n",
    "\n",
    "Koden `con.close()` används för att stänga anslutningen till databasen när du är färdig med att jobba med den. Detta är viktigt eftersom:\n",
    "\n",
    "- **Det frigör resurser**: Om anslutningen förblir öppen, kan den använda datorns minne och andra resurser, vilket kan göra programmet långsammare.\n",
    "- **Det minskar risken för problem**: Om flera personer eller processer försöker använda databasen samtidigt, kan öppna anslutningar orsaka konflikter.\n",
    "- **Det ökar säkerheten**: Genom att stänga anslutningen minskar du risken för att någon oavsiktligt ändrar eller får åtkomst till data.\n",
    "\n",
    "Använd alltid `con.close()` när du är klar med databasen för att hålla programmet säkert och effektivt."
   ]
  },
  {
   "cell_type": "code",
   "execution_count": 5,
   "id": "7295a4a6",
   "metadata": {},
   "outputs": [
    {
     "data": {
      "application/vnd.jupyter.widget-view+json": {
       "model_id": "57a24a5847744664a310c97e0f047841",
       "version_major": 2,
       "version_minor": 0
      },
      "text/plain": [
       "IntSlider(value=5, max=10)"
      ]
     },
     "metadata": {},
     "output_type": "display_data"
    }
   ],
   "source": [
    "import ipywidgets as widgets\n",
    "from IPython.display import display\n",
    "\n",
    "# Skapa en interaktiv slider som kan användas i Jupyter Notebook\n",
    "slider = widgets.IntSlider(value=5, min=0, max=10, step=1)\n",
    "display(slider)\n"
   ]
  },
  {
   "cell_type": "markdown",
   "id": "6d2d6cb1",
   "metadata": {},
   "source": [
    "## Förklaring av Koden\n",
    "\n",
    "Denna kod används för att skapa en interaktiv slider med hjälp av biblioteket ipywidgets, som kan användas direkt i en Jupyter Notebook.\n",
    "\n",
    "1. Skapa en Slider:\n",
    "* Här skapas en slider med IntSlider-widgeten.\n",
    "* value=5: Startvärdet är satt till 5.\n",
    "* min=0 och max=10: Slidern kan röra sig mellan 0 och 10.\n",
    "* step=1: Slidern rör sig i steg om 1.\n",
    "\n",
    "2. Visa Slidern:\n",
    "Slidern visas i Jupyter Notebook, och användaren kan dra i den för att välja ett värde mellan 0 och 10.\n",
    "\n",
    "* Koden skapar alltså en enkel, interaktiv slider som gör det möjligt att välja ett heltal inom det angivna intervallet i Jupyter Notebook."
   ]
  },
  {
   "cell_type": "code",
   "execution_count": 6,
   "id": "3450739a",
   "metadata": {},
   "outputs": [
    {
     "data": {
      "text/html": [
       "\n",
       "        <iframe\n",
       "            width=\"100%\"\n",
       "            height=\"650\"\n",
       "            src=\"http://127.0.0.1:8061/\"\n",
       "            frameborder=\"0\"\n",
       "            allowfullscreen\n",
       "            \n",
       "        ></iframe>\n",
       "        "
      ],
      "text/plain": [
       "<IPython.lib.display.IFrame at 0x27910e8c510>"
      ]
     },
     "metadata": {},
     "output_type": "display_data"
    }
   ],
   "source": [
    "import dash\n",
    "from dash import dcc, html\n",
    "import plotly.express as px\n",
    "\n",
    "# Förbered data för en enkel graf\n",
    "dash_df = pd.DataFrame({'Category': ['A', 'B', 'C'], 'Values': [5, 10, 20]})\n",
    "fig = px.bar(dash_df, x='Category', y='Values')\n",
    "\n",
    "# Skapa och kör Dash-appen\n",
    "app = dash.Dash(__name__)\n",
    "\n",
    "app.layout = html.Div([\n",
    "    dcc.Graph(figure=fig)\n",
    "])\n",
    "\n",
    "if __name__ == '__main__':\n",
    "    app.run_server(debug=True, port=8061)\n"
   ]
  },
  {
   "cell_type": "markdown",
   "id": "e0a2a3dd",
   "metadata": {},
   "source": [
    "## Förklaring av Koden\n",
    "\n",
    "Denna kod används för att skapa en enkel webbapplikation med hjälp av Dash som visar ett stapeldiagram över kategorivärden.\n",
    "\n",
    "1. Förbered Data och Skapa Diagram:\n",
    "* Här skapas en DataFrame med tre kategorier (A, B, C) och deras värden.\n",
    "* Ett stapeldiagram genereras med Plotly Express, där x-axeln representerar kategorier och y-axeln representerar värdena.\n",
    "\n",
    "2. Skapa Dash-applikationen:\n",
    "En ny Dash-applikation skapas som kommer att användas för att visa diagrammet.\n",
    "\n",
    "3. Definiera Layout och Lägg till Diagram:\n",
    "Layouten för applikationen definieras som ett enkelt Div-element som innehåller diagrammet.\n",
    "\n",
    "4. Kör Applikationen:\n",
    "Applikationen startas och körs på port 8061. debug=True gör att appen uppdateras automatiskt vid ändringar i koden.\n",
    "\n",
    "* Koden skapar alltså en enkel webbapp där användaren kan se ett stapeldiagram interaktivt i en webbläsare."
   ]
  },
  {
   "cell_type": "code",
   "execution_count": 7,
   "id": "6b713fb2",
   "metadata": {},
   "outputs": [],
   "source": [
    "from bokeh.plotting import figure, output_file, show\n",
    "\n",
    "# Skapa en enkel linjediagram med Bokeh\n",
    "output_file(\"plot.html\")\n",
    "p = figure(title=\"Enkel linjediagram\")\n",
    "p.line([1, 2, 3, 4], [1, 4, 2, 3])\n",
    "show(p)\n"
   ]
  },
  {
   "cell_type": "markdown",
   "id": "1cbdef97",
   "metadata": {},
   "source": [
    "## Förklaring av Koden:\n",
    "\n",
    "Denna kod används för att skapa ett enkelt linjediagram med hjälp av Bokeh-biblioteket och visa det i en webbläsare.\n",
    "\n",
    "1. Definiera Outputfil:\n",
    "Här definieras outputfilen där diagrammet kommer att sparas, i det här fallet som en HTML-fil med namnet \"plot.html\".\n",
    "\n",
    "2. Skapa en Figur och Lägg till Linjediagram:\n",
    "En figur skapas med titeln \"Enkel linjediagram\".\n",
    "Sedan ritas en linje där x-värdena är [1, 2, 3, 4] och y-värdena är [1, 4, 2, 3].\n",
    "\n",
    "3. Visa Diagrammet:\n",
    "Diagrammet visas i webbläsaren. Eftersom Bokeh genererar en HTML-fil, kommer diagrammet att öppnas i en webbläsare och visas interaktivt.\n",
    "\n",
    "* Koden skapar alltså ett enkelt linjediagram som kan användas för att visualisera data på ett interaktivt sätt."
   ]
  },
  {
   "cell_type": "code",
   "execution_count": 8,
   "id": "c761186c",
   "metadata": {},
   "outputs": [
    {
     "name": "stdout",
     "output_type": "stream",
     "text": [
      "Högsta 10 försäljningar:\n",
      "            Customer Name  Total Purchase Amount\n",
      "180048         Gary White                   5350\n",
      "26075       David Patrick                   5349\n",
      "53928        Kyle Jackson                   5349\n",
      "125782        Joan Carson                   5349\n",
      "236044    Jeremiah Barnes                   5348\n",
      "204753       Theresa Hunt                   5346\n",
      "5322          Kevin Roman                   5345\n",
      "156812       Mary Johnson                   5345\n",
      "113138     Kathleen Perez                   5344\n",
      "240660  Danielle Williams                   5344\n"
     ]
    }
   ],
   "source": [
    "# Högsta 10 försäljningar baserat på total köpsumma\n",
    "top_10_sales = df[['Customer Name', 'Total Purchase Amount']].drop_duplicates().sort_values(by='Total Purchase Amount', ascending=False).head(10)\n",
    "print(\"Högsta 10 försäljningar:\")\n",
    "print(top_10_sales)\n"
   ]
  },
  {
   "cell_type": "markdown",
   "id": "ac9635de",
   "metadata": {},
   "source": [
    "## Förklaring av Koden:\n",
    "\n",
    "Denna kod används för att hitta de 10 högsta försäljningarna baserat på den totala köpsumman för varje kund.\n",
    "\n",
    "1. Filtrera och Sortera Försäljningsdata:\n",
    "* Först tas dubbletter bort för att säkerställa att varje kunds försäljning är unik.\n",
    "* Sedan sorteras data efter kolumnen \"Total Purchase Amount\" i fallande ordning.\n",
    "* De 10 första raderna hämtas, vilket visar de kunder med högst köpsumma.\n",
    "\n",
    "2. Visa Resultatet:\n",
    "\n",
    "Koden skriver ut namnen på de kunder som har gjort de 10 största köpen, vilket kan ge insikter om vilka kunder som spenderar mest.\n",
    "\n",
    "* Denna kod hjälper oss att identifiera de mest värdefulla kunderna baserat på deras köpbeteende, vilket kan vara användbart för att utveckla kundlojalitetsstrategier."
   ]
  },
  {
   "cell_type": "code",
   "execution_count": 9,
   "id": "45a575d4",
   "metadata": {},
   "outputs": [
    {
     "name": "stdout",
     "output_type": "stream",
     "text": [
      "\n",
      "Lägsta 10 försäljningar:\n",
      "                 Customer Name  Total Purchase Amount\n",
      "170528             Ashley Hall                    100\n",
      "243752             Thomas Cole                    100\n",
      "96395               Laura Rios                    101\n",
      "189989                 Lori Yu                    102\n",
      "177036            Lisa Jackson                    102\n",
      "191197            Colleen Pace                    103\n",
      "104374             James Welch                    104\n",
      "113854            Molly Moreno                    105\n",
      "110873  Mrs. Elizabeth Kim DDS                    105\n",
      "171453                  Amy Yu                    106\n"
     ]
    }
   ],
   "source": [
    "# Lägsta 10 försäljningar baserat på total köpsumma\n",
    "lowest_10_sales = df[['Customer Name', 'Total Purchase Amount']].drop_duplicates().sort_values(by='Total Purchase Amount', ascending=True).head(10)\n",
    "print(\"\\nLägsta 10 försäljningar:\")\n",
    "print(lowest_10_sales)\n"
   ]
  },
  {
   "cell_type": "markdown",
   "id": "39c96c60",
   "metadata": {},
   "source": [
    "## Förklaring av Koden\n",
    "\n",
    "Denna kod används för att hitta de 10 lägsta försäljningarna baserat på den totala köpsumman för varje kund.\n",
    "\n",
    "1. Filtrera och Sortera Försäljningsdata:\n",
    "* Först tas dubbletter bort för att säkerställa att varje kunds försäljning är unik.\n",
    "* Sedan sorteras data efter kolumnen \"Total Purchase Amount\" i stigande ordning.\n",
    "* De 10 första raderna hämtas, vilket visar de kunder med lägst köpsumma.\n",
    "\n",
    "2. Visa Resultatet:\n",
    "\n",
    "Koden skriver ut namnen på de kunder som har gjort de 10 lägsta köpen, vilket kan ge insikter om vilka kunder som köper minst.\n",
    "\n",
    "* Denna kod hjälper oss att identifiera de kunder som har lägst köpbeteende, vilket kan vara användbart för att rikta marknadsföringsstrategier."
   ]
  },
  {
   "cell_type": "code",
   "execution_count": 10,
   "id": "169919dc",
   "metadata": {},
   "outputs": [
    {
     "name": "stdout",
     "output_type": "stream",
     "text": [
      "Försäljning enligt kön:\n",
      "      Kön  Total Försäljning\n",
      "0  Female          338559456\n",
      "1    Male          342786843\n"
     ]
    },
    {
     "data": {
      "image/png": "[encoded data removed]",
      "text/plain": [
       "<Figure size 400x400 with 1 Axes>"
      ]
     },
     "metadata": {},
     "output_type": "display_data"
    }
   ],
   "source": [
    "# Försäljning enligt kön\n",
    "sales_by_gender = df.groupby('Gender')['Total Purchase Amount'].sum().reset_index()\n",
    "sales_by_gender.columns = ['Kön', 'Total Försäljning']\n",
    "print(\"Försäljning enligt kön:\")\n",
    "print(sales_by_gender)\n",
    "\n",
    "\n",
    "\n",
    "# Skapa ett cirkeldiagram för försäljning enligt kön\n",
    "plt.figure(figsize=(4, 4))\n",
    "plt.pie(sales_by_gender['Total Försäljning'], labels=sales_by_gender['Kön'], autopct='%1.1f%%', startangle=140, colors=['#ff9999', '#66b3ff'])\n",
    "plt.title('Försäljning enligt Kön')\n",
    "plt.axis('equal')  # Gör cirkeln rund\n",
    "plt.show()\n"
   ]
  },
  {
   "cell_type": "markdown",
   "id": "356f5c34",
   "metadata": {},
   "source": [
    "## Förklaring av Koden: \n",
    "Denna kod används för att analysera försäljningen baserat på kön och att visualisera resultaten med ett cirkeldiagram.\n",
    "\n",
    "1. Beräkna Försäljning för Varje Kön:\n",
    "Här grupperas data efter kön och den totala försäljningen för varje kön beräknas. Resultatet visar hur mycket män och kvinnor har bidragit till den totala försäljningen.\n",
    "\n",
    "2. Skapa Cirkeldiagram för Försäljning enligt Kön:\n",
    "Ett cirkeldiagram skapas för att visa andelen försäljning som varje kön står för. Varje del av cirkeln representerar ett kön, och procentsatsen visar deras bidrag till den totala försäljningen.\n",
    "\n",
    "* Denna kod hjälper till att snabbt förstå hur försäljningen fördelas mellan könen i kundgruppen.\n"
   ]
  },
  {
   "cell_type": "code",
   "execution_count": 11,
   "id": "714bbf79",
   "metadata": {},
   "outputs": [
    {
     "name": "stdout",
     "output_type": "stream",
     "text": [
      "\n",
      "Försäljning enligt ålderskategori:\n",
      "  Ålderskategori  Total Försäljning\n",
      "0         Senior          262728575\n",
      "1         Ungdom          152311834\n",
      "2          Vuxen          266305890\n"
     ]
    },
    {
     "data": {
      "image/png": "[encoded data removed]",
      "text/plain": [
       "<Figure size 400x400 with 1 Axes>"
      ]
     },
     "metadata": {},
     "output_type": "display_data"
    }
   ],
   "source": [
    "# Skapa en ny kolumn för ålderskategori\n",
    "def ålderskategori(age):\n",
    "    if age < 30:\n",
    "        return 'Ungdom'\n",
    "    elif 30 <= age <= 50:\n",
    "        return 'Vuxen'\n",
    "    else:\n",
    "        return 'Senior'\n",
    "\n",
    "df['Ålderskategori'] = df['Age'].apply(ålderskategori)\n",
    "\n",
    "# Försäljning enligt ålderskategori\n",
    "sales_by_age_category = df.groupby('Ålderskategori')['Total Purchase Amount'].sum().reset_index()\n",
    "sales_by_age_category.columns = ['Ålderskategori', 'Total Försäljning']\n",
    "print(\"\\nFörsäljning enligt ålderskategori:\")\n",
    "print(sales_by_age_category)\n",
    "\n",
    "\n",
    "\n",
    "# Skapa ett cirkeldiagram för försäljning enligt ålderskategori\n",
    "plt.figure(figsize=(4, 4))\n",
    "plt.pie(sales_by_age_category['Total Försäljning'], labels=sales_by_age_category['Ålderskategori'], autopct='%1.1f%%', startangle=140, colors=['lightblue', 'lightgreen', 'lightcoral'])\n",
    "plt.title('Försäljning enligt Ålderskategori')\n",
    "plt.axis('equal')  # Gör cirkeln rund\n",
    "plt.show()\n"
   ]
  },
  {
   "cell_type": "markdown",
   "id": "906b6481",
   "metadata": {},
   "source": [
    "## Förklaring av Koden:\n",
    "\n",
    "Denna kod används för att analysera försäljningen baserat på kundernas ålderskategori och visualisera resultaten med ett cirkeldiagram.\n",
    "\n",
    "1. Skapa Ålderskategori:\n",
    "Funktionen ålderskategori skapar en ny kolumn i data där varje kund klassificeras i en ålderskategori: \"Ungdom\" (under 30), \"Vuxen\" (30 till 50), eller \"Senior\" (över 50).\n",
    "\n",
    "2. Beräkna Försäljning för Varje Ålderskategori:\n",
    "Data grupperas efter ålderskategori, och den totala försäljningen för varje kategori beräknas. Resultatet visar hur mycket varje åldersgrupp har bidragit till den totala försäljningen.\n",
    "\n",
    "3. Skapa Cirkeldiagram:\n",
    "Ett cirkeldiagram skapas för att visuellt visa andelen försäljning för varje ålderskategori. Varje del av cirkeln representerar en ålderskategori, och procentsatsen visar deras bidrag till den totala försäljningen.\n",
    "\n",
    "* Koden hjälper till att förstå vilka åldersgrupper som står för störst del av försäljningen i e-handeln.\n"
   ]
  },
  {
   "cell_type": "code",
   "execution_count": 12,
   "id": "70b6ec36",
   "metadata": {},
   "outputs": [
    {
     "name": "stdout",
     "output_type": "stream",
     "text": [
      "Top 5 mest sålda produkter:\n",
      "  Produktkategori  Total Försäljning\n",
      "3            Home          171138916\n",
      "1        Clothing          170716122\n",
      "2     Electronics          170146025\n",
      "0           Books          169345236\n",
      "\n",
      "De 5 minst sålda produkterna:\n",
      "  Produktkategori  Total Försäljning\n",
      "0           Books          169345236\n",
      "2     Electronics          170146025\n",
      "1        Clothing          170716122\n",
      "3            Home          171138916\n"
     ]
    },
    {
     "data": {
      "image/png": "[encoded data removed]",
      "text/plain": [
       "<Figure size 600x600 with 1 Axes>"
      ]
     },
     "metadata": {},
     "output_type": "display_data"
    },
    {
     "data": {
      "image/png": "[encoded data removed]",
      "text/plain": [
       "<Figure size 600x600 with 1 Axes>"
      ]
     },
     "metadata": {},
     "output_type": "display_data"
    }
   ],
   "source": [
    "# Top 5 mest sålda produkter\n",
    "top_5_products = df.groupby('Product Category')['Total Purchase Amount'].sum().reset_index()\n",
    "top_5_products = top_5_products.sort_values(by='Total Purchase Amount', ascending=False).head(5)\n",
    "top_5_products.columns = ['Produktkategori', 'Total Försäljning']\n",
    "print(\"Top 5 mest sålda produkter:\")\n",
    "print(top_5_products)\n",
    "\n",
    "# De 5 minst sålda produkterna\n",
    "lowest_5_products = df.groupby('Product Category')['Total Purchase Amount'].sum().reset_index()\n",
    "lowest_5_products = lowest_5_products.sort_values(by='Total Purchase Amount', ascending=True).head(5)\n",
    "lowest_5_products.columns = ['Produktkategori', 'Total Försäljning']\n",
    "print(\"\\nDe 5 minst sålda produkterna:\")\n",
    "print(lowest_5_products)\n",
    "\n",
    "\n",
    "# Diagram för de 5 mest sålda produkterna\n",
    "plt.figure(figsize=(6, 6))\n",
    "sns.barplot(x='Produktkategori', y='Total Försäljning', data=top_5_products, palette='Blues')\n",
    "plt.title('Top 5 mest sålda produkter')\n",
    "plt.xticks(rotation=45)\n",
    "plt.xlabel('Produktkategori')\n",
    "plt.ylabel('Total Försäljning')\n",
    "plt.show()\n",
    "\n",
    "# Diagram för de 5 minst sålda produkterna\n",
    "plt.figure(figsize=(6, 6))\n",
    "sns.barplot(x='Produktkategori', y='Total Försäljning', data=lowest_5_products, palette='Reds')\n",
    "plt.title('De 5 minst sålda produkterna')\n",
    "plt.xticks(rotation=45)\n",
    "plt.xlabel('Produktkategori')\n",
    "plt.ylabel('Total Försäljning')\n",
    "plt.show()\n"
   ]
  },
  {
   "cell_type": "markdown",
   "id": "34602cc5",
   "metadata": {},
   "source": [
    "### Förklaring av Koden\n",
    "\n",
    "Denna kod används för att analysera försäljningen av olika produktkategorier i en e-handelsdatabas och visualisera de mest och minst sålda produkterna. Syftet är att identifiera vilka produktkategorier som presterar bäst och vilka som presterar sämst, baserat på den totala försäljningen.\n",
    "\n",
    "1. **Top 5 mest sålda produkter**:\n",
    "   Först grupperas data efter produktkategori och den totala försäljningen för varje kategori beräknas genom att summera värdena i kolumnen \"Total Purchase Amount\". Data sorteras sedan i fallande ordning för att identifiera de fem produktkategorier med högst försäljning. Dessa lagras i `top_5_products` för vidare användning och visualisering.\n",
    "\n",
    "2. **De 5 minst sålda produkterna**:\n",
    "   Samma process upprepas för att identifiera de fem produktkategorier med lägst försäljning. Data sorteras i stigande ordning och resultatet sparas i `lowest_5_products`.\n",
    "\n",
    "3. **Diagram för de 5 mest sålda produkterna**:\n",
    "   Ett stapeldiagram skapas för att visa de fem mest sålda produkterna. X-axeln representerar produktkategorierna och Y-axeln visar den totala försäljningen. Färgpaletten \"Blues\" används för att framhäva försäljningsdata. Diagrammet hjälper till att visuellt jämföra vilka produkter som har högst försäljning.\n",
    "\n",
    "4. **Diagram för de 5 minst sålda produkterna**:\n",
    "   Ett stapeldiagram skapas för att visa de fem minst sålda produkterna, vilket gör det enkelt att se vilka produkter som inte presterar lika bra. Färgpaletten \"Reds\" används för att betona de låga försäljningssiffrorna, vilket ger en tydlig visuell kontrast till de mest sålda produkterna.\n",
    "\n",
    "Denna kod ger en snabb och visuell översikt över produktförsäljningen inom olika kategorier, vilket kan användas för att fatta beslut om produktstrategier. Genom att analysera dessa resultat kan företaget fokusera på att förbättra marknadsföringen för mindre sålda produkter eller förstärka utbudet av de mest populära produkterna.\n"
   ]
  },
  {
   "cell_type": "code",
   "execution_count": 14,
   "id": "47e56144",
   "metadata": {},
   "outputs": [
    {
     "name": "stdout",
     "output_type": "stream",
     "text": [
      "Requirement already satisfied: xgboost in c:\\users\\mayas\\anaconda3\\lib\\site-packages (2.1.2)\n",
      "Requirement already satisfied: numpy in c:\\users\\mayas\\anaconda3\\lib\\site-packages (from xgboost) (1.24.3)\n",
      "Requirement already satisfied: scipy in c:\\users\\mayas\\anaconda3\\lib\\site-packages (from xgboost) (1.11.3)\n"
     ]
    }
   ],
   "source": [
    "!pip install xgboost\n"
   ]
  },
  {
   "cell_type": "code",
   "execution_count": 18,
   "id": "c34b94b2",
   "metadata": {},
   "outputs": [
    {
     "data": {
      "text/plain": [
       "(1438.335419519416,\n",
       " 1245.5186141796876,\n",
       " 0.002939573969875986,\n",
       " {'learning_rate': 0.01, 'max_depth': 3, 'n_estimators': 200})"
      ]
     },
     "execution_count": 18,
     "metadata": {},
     "output_type": "execute_result"
    }
   ],
   "source": [
    "from xgboost import XGBRegressor\n",
    "from sklearn.model_selection import GridSearchCV, train_test_split\n",
    "from sklearn.metrics import mean_squared_error, mean_absolute_error, r2_score\n",
    "import numpy as np\n",
    "\n",
    "# Förbered data och dela upp i funktioner och målvariabel\n",
    "X = df[['Product Price', 'Quantity', 'Customer Age', 'Returns']]\n",
    "X = pd.get_dummies(df[['Product Category', 'Payment Method', 'Gender']], drop_first=True).join(X)\n",
    "y = df['Total Purchase Amount']\n",
    "\n",
    "# Dela upp data i tränings- och testset\n",
    "X_train, X_test, y_train, y_test = train_test_split(X, y, test_size=0.2, random_state=42)\n",
    "\n",
    "# Skapa en XGBoost-modell\n",
    "xgb_model = XGBRegressor(random_state=42)\n",
    "\n",
    "# Ange ett parametergrid för att testa olika värden\n",
    "param_grid = {\n",
    "    'n_estimators': [100, 200, 300],\n",
    "    'max_depth': [3, 5, 7],\n",
    "    'learning_rate': [0.01, 0.1, 0.2]\n",
    "}\n",
    "\n",
    "# Använd GridSearchCV för att justera parametrarna\n",
    "grid_search = GridSearchCV(estimator=xgb_model, param_grid=param_grid, cv=5, scoring='neg_mean_squared_error')\n",
    "grid_search.fit(X_train, y_train)\n",
    "\n",
    "# Hämta den bästa modellen och dess parametrar\n",
    "best_xgb_model = grid_search.best_estimator_\n",
    "\n",
    "# Gör en prediktion med den bästa modellen och utvärdera den\n",
    "y_pred_xgb = best_xgb_model.predict(X_test)\n",
    "rmse_xgb = np.sqrt(mean_squared_error(y_test, y_pred_xgb))\n",
    "mae_xgb = mean_absolute_error(y_test, y_pred_xgb)\n",
    "r2_xgb = r2_score(y_test, y_pred_xgb)\n",
    "\n",
    "rmse_xgb, mae_xgb, r2_xgb, grid_search.best_params_\n"
   ]
  },
  {
   "cell_type": "markdown",
   "id": "d1b7e4b0",
   "metadata": {},
   "source": [
    "### Förklaring av Koden\n",
    "\n",
    "1. **Importera bibliotek**: Först importerar vi nödvändiga verktyg och funktioner, inklusive `XGBRegressor` för att skapa en XGBoost-modell och `GridSearchCV` för att hitta de bästa inställningarna för modellen.\n",
    "\n",
    "2. **Förbereda data**:\n",
    "   - Vi väljer kolumnerna `Product Price`, `Quantity`, `Customer Age`, och `Returns` som funktioner (det vi ska använda för att göra en förutsägelse).\n",
    "   - Vi omvandlar kategoriska (icke-numeriska) kolumner som `Product Category`, `Payment Method`, och `Gender` till numeriska med `pd.get_dummies()`.\n",
    "   - `y` är den kolumn som vi vill förutsäga, alltså `Total Purchase Amount`.\n",
    "\n",
    "3. **Dela upp data**:\n",
    "   - Vi delar upp data i en träningsdel (`X_train`, `y_train`) och en testdel (`X_test`, `y_test`). Detta gör vi för att kunna träna modellen och sedan testa hur bra den fungerar på nya data.\n",
    "\n",
    "4. **Skapa en XGBoost-modell**:\n",
    "   - Vi skapar en XGBoost-modell (`xgb_model`) och sätter ett parametergrid (ett antal värden vi vill testa för olika inställningar).\n",
    "\n",
    "5. **Justera parametrar med `GridSearchCV`**:\n",
    "   - Vi använder `GridSearchCV` för att testa olika inställningar av modellen och hitta de bästa värdena. Det innebär att `GridSearchCV` provar olika kombinationer av `n_estimators`, `max_depth`, och `learning_rate`.\n",
    "\n",
    "6. **Prediktion och utvärdering**:\n",
    "   - Efter att ha hittat de bästa parametrarna skapar vi en förutsägelse med den bästa modellen (`best_xgb_model`).\n",
    "   - Vi beräknar några mått för att mäta modellens precision:\n",
    "     - **RMSE**: Hur mycket modellen i genomsnitt missar i sina förutsägelser.\n",
    "     - **MAE**: Medelfelet i förutsägelserna.\n",
    "     - **R-squared**: Visar hur mycket av variationen i data modellen kan förklara. Värdet är mellan 0 och 1, där 1 är bäst.\n",
    "\n",
    "Genom dessa steg får vi både en modell och de bästa parametrarna, och vi kan utvärdera modellens precision."
   ]
  },
  {
   "cell_type": "code",
   "execution_count": null,
   "id": "c0c15a9b",
   "metadata": {},
   "outputs": [],
   "source": []
  }
 ],
 "metadata": {
  "kernelspec": {
   "display_name": "Python 3 (ipykernel)",
   "language": "python",
   "name": "python3"
  },
  "language_info": {
   "codemirror_mode": {
    "name": "ipython",
    "version": 3
   },
   "file_extension": ".py",
   "mimetype": "text/x-python",
   "name": "python",
   "nbconvert_exporter": "python",
   "pygments_lexer": "ipython3",
   "version": "3.11.5"
  }
 },
 "nbformat": 4,
 "nbformat_minor": 5
}
